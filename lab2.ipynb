{
 "cells": [
  {
   "cell_type": "code",
   "execution_count": 55,
   "id": "e0710754",
   "metadata": {},
   "outputs": [
    {
     "name": "stdout",
     "output_type": "stream",
     "text": [
      "       user_from_id  user_to_id  is_like is_match\n",
      "0              1136        3141    False    False\n",
      "1              2424        3174    False    False\n",
      "2              1300        3590    False    False\n",
      "3               800        2736    False    False\n",
      "4               883         437    False    False\n",
      "...             ...         ...      ...      ...\n",
      "76387          2376        3057    False    False\n",
      "76388          1163         933    False    False\n",
      "76389          2770        3324    False    False\n",
      "76390           879         785    False    False\n",
      "76391           291         470    False    False\n",
      "\n",
      "[76392 rows x 4 columns]\n"
     ]
    }
   ],
   "source": [
    "import scipy\n",
    "import numpy as np\n",
    "import pandas as pd\n",
    "import matplotlib.pyplot as plt\n",
    "\n",
    "train_file_path = 'lab2_train.csv'\n",
    "train_data = pd.read_csv(train_file_path, delimiter=',')\n",
    "\n",
    "# This should be used for predictions!!\n",
    "\n",
    "#test_file_path = '../../lab2_test.csv'\n",
    "#test_data = pd.read_csv(test_file_path, delimiter=',')"
   ]
  },
  {
   "cell_type": "markdown",
   "id": "b16503e6",
   "metadata": {},
   "source": [
    "## Data Familiarization"
   ]
  },
  {
   "cell_type": "markdown",
   "id": "822a8f89",
   "metadata": {},
   "source": [
    "#### Missing values are mapped to zero and will be seen as the background color on the heatmap."
   ]
  },
  {
   "cell_type": "code",
   "execution_count": 27,
   "id": "2fe11953",
   "metadata": {},
   "outputs": [
    {
     "data": {
      "image/png": "[encoded data removed]",
      "text/plain": [
       "<Figure size 640x480 with 2 Axes>"
      ]
     },
     "metadata": {},
     "output_type": "display_data"
    }
   ],
   "source": [
    "# Create a pivot table for the heatmap\n",
    "heatmap_data = pd.pivot_table(train_data, values='is_like', index='user_from_id', columns='user_to_id', fill_value=0)\n",
    "\n",
    "# Map True to 1 and False to 0 (if needed)\n",
    "heatmap_data = heatmap_data.astype(int)\n",
    "\n",
    "# Plot the heatmap with white for True and blue for False\n",
    "plt.imshow(heatmap_data, cmap='bone', interpolation='nearest', vmin=0, vmax=1)\n",
    "\n",
    "# Set colorbar ticks and labels\n",
    "plt.colorbar(ticks=[0, 1], label='Dislike / Like')\n",
    "\n",
    "plt.xlabel('User To ID')\n",
    "plt.ylabel('User From ID')\n",
    "plt.title('Heatmap of likes and dislikes of recommendations')\n",
    "\n",
    "plt.show()"
   ]
  },
  {
   "cell_type": "markdown",
   "id": "f78d7111",
   "metadata": {},
   "source": [
    "#### We can see that there's far more dislikes than likes in the training data."
   ]
  },
  {
   "cell_type": "markdown",
   "id": "be008a97",
   "metadata": {},
   "source": [
    "### Number of users of the app within our training data"
   ]
  },
  {
   "cell_type": "code",
   "execution_count": 28,
   "id": "9500989d",
   "metadata": {},
   "outputs": [
    {
     "name": "stdout",
     "output_type": "stream",
     "text": [
      "The total number of users in the training data is 3591\n",
      "The highest user ID is 3716\n"
     ]
    }
   ],
   "source": [
    "num_of_users = set(pd.concat([train_data['user_from_id'], train_data['user_to_id']]).tolist())\n",
    "print(\"The total number of users in the training data is\", len(num_of_users))\n",
    "print(\"The highest user ID is\", max(num_of_users))"
   ]
  },
  {
   "cell_type": "markdown",
   "id": "6abb9501",
   "metadata": {},
   "source": [
    "#### After inspecting the training data manually, we found that users with lower IDs appear more often. This suggests that IDs are assigned increasingly. So we can label users as new and veterans."
   ]
  },
  {
   "cell_type": "markdown",
   "id": "3c467264",
   "metadata": {},
   "source": [
    "### Data Sparsity"
   ]
  },
  {
   "cell_type": "code",
   "execution_count": 29,
   "id": "4de98998",
   "metadata": {
    "scrolled": true
   },
   "outputs": [
    {
     "name": "stdout",
     "output_type": "stream",
     "text": [
      "#rows with missing values: 815\n",
      "#rows with missing is_match value: 815\n",
      "1.07 % of the training data is incomplete\n"
     ]
    }
   ],
   "source": [
    "rows_with_missing_user_from_id = train_data[train_data['user_from_id'].isna()]\n",
    "rows_with_missing_user_to_id = train_data[train_data['user_to_id'].isna()]\n",
    "rows_with_missing_is_like = train_data[train_data['is_like'].isna()]\n",
    "rows_with_missing_is_match = train_data[train_data['is_match'].isna()]\n",
    "total_rows_missing_values = len(rows_with_missing_user_from_id) + len(rows_with_missing_user_to_id) + len(rows_with_missing_is_like) + len(rows_with_missing_is_match)\n",
    "print(\"#rows with missing values:\", total_rows_missing_values)\n",
    "print(\"#rows with missing is_match value:\", len(rows_with_missing_is_match))\n",
    "print(\"%.2f\" % (total_rows_missing_values/len(train_data) * 100), \"% of the training data is incomplete\")"
   ]
  },
  {
   "cell_type": "markdown",
   "id": "f6bd2550",
   "metadata": {},
   "source": [
    "#### Now, let's build a matrix to illustrate the limited information available on users, highlighting the sparsity of the data. In general, data is deemed sparse when a significant portion, often around 50% or more, contains missing values."
   ]
  },
  {
   "cell_type": "code",
   "execution_count": 30,
   "id": "d6287745",
   "metadata": {},
   "outputs": [
    {
     "name": "stdout",
     "output_type": "stream",
     "text": [
      "user_to_id    0     1     2     3     4     5     6     7     8     9     ...  \\\n",
      "user_from_id                                                              ...   \n",
      "1              NaN   NaN   NaN   NaN   NaN   NaN   NaN   NaN   NaN   NaN  ...   \n",
      "2              0.0   NaN   NaN   NaN   NaN   NaN   NaN   NaN   NaN   NaN  ...   \n",
      "3              NaN   NaN   NaN   NaN   NaN   NaN   NaN   NaN   NaN   NaN  ...   \n",
      "4              0.0   NaN   NaN   NaN   NaN   NaN   NaN   NaN   NaN   NaN  ...   \n",
      "5              NaN   NaN   NaN   NaN   NaN   NaN   NaN   NaN   NaN   NaN  ...   \n",
      "...            ...   ...   ...   ...   ...   ...   ...   ...   ...   ...  ...   \n",
      "3709           NaN   NaN   NaN   NaN   NaN   NaN   NaN   NaN   NaN   NaN  ...   \n",
      "3713           NaN   NaN   NaN   NaN   NaN   NaN   NaN   NaN   NaN   NaN  ...   \n",
      "3714           NaN   NaN   NaN   NaN   NaN   NaN   NaN   NaN   NaN   NaN  ...   \n",
      "3715           NaN   NaN   NaN   NaN   NaN   NaN   NaN   NaN   NaN   NaN  ...   \n",
      "3716           NaN   NaN   NaN   NaN   NaN   NaN   NaN   NaN   NaN   NaN  ...   \n",
      "\n",
      "user_to_id    3614  3615  3616  3618  3619  3620  3621  3622  3623  3624  \n",
      "user_from_id                                                              \n",
      "1              NaN   NaN   NaN   NaN   NaN   NaN   NaN   NaN   NaN   NaN  \n",
      "2              NaN   NaN   NaN   NaN   NaN   NaN   NaN   NaN   NaN   NaN  \n",
      "3              NaN   NaN   NaN   NaN   NaN   NaN   NaN   NaN   NaN   NaN  \n",
      "4              NaN   NaN   NaN   NaN   NaN   NaN   NaN   NaN   NaN   NaN  \n",
      "5              NaN   NaN   NaN   NaN   NaN   NaN   NaN   NaN   NaN   NaN  \n",
      "...            ...   ...   ...   ...   ...   ...   ...   ...   ...   ...  \n",
      "3709           NaN   NaN   NaN   NaN   NaN   NaN   NaN   NaN   NaN   NaN  \n",
      "3713           NaN   NaN   NaN   NaN   NaN   NaN   NaN   NaN   NaN   NaN  \n",
      "3714           NaN   NaN   NaN   NaN   NaN   NaN   NaN   NaN   NaN   NaN  \n",
      "3715           NaN   NaN   NaN   NaN   NaN   NaN   NaN   NaN   NaN   NaN  \n",
      "3716           NaN   NaN   NaN   NaN   NaN   NaN   NaN   NaN   NaN   NaN  \n",
      "\n",
      "[3149 rows x 3040 columns]\n",
      "95.81 % of the data is missing, so we consider it sparse\n"
     ]
    }
   ],
   "source": [
    "X = pd.pivot_table(train_data, values='is_like', index='user_from_id', columns='user_to_id', fill_value=None)\n",
    "print(X)\n",
    "print(\"%.2f\" % (X.isna().sum().sum() / (len(X) * len(X[0])) * 100), \"% of the data is missing, so we consider it sparse\")"
   ]
  },
  {
   "cell_type": "markdown",
   "id": "257b4a53",
   "metadata": {},
   "source": [
    "### Important properties of the data:\n",
    "#### There are missing values specifically in the 'is_match' column of the data. To address this, we will exclude those rows from our analysis. \n",
    "#### Furthermore, by examining the heatmap, we observe variations in the frequency of users being liked when recommended to others. Some users receive likes frequently, while others receive none at all. This observation is intriguing, so let's inspect it further."
   ]
  },
  {
   "cell_type": "code",
   "execution_count": 31,
   "id": "fb4bd2a8",
   "metadata": {},
   "outputs": [
    {
     "data": {
      "image/png": "[encoded data removed]",
      "text/plain": [
       "<Figure size 640x480 with 1 Axes>"
      ]
     },
     "metadata": {},
     "output_type": "display_data"
    }
   ],
   "source": [
    "# Count the number of likes for each user\n",
    "likes_per_user = train_data.groupby('user_from_id')['is_like'].sum()\n",
    "\n",
    "# Create bins for the histogram\n",
    "bins = range(25)  # Bins 0, 1, 2, ..., 25\n",
    "\n",
    "# Create a histogram\n",
    "plt.hist(likes_per_user, bins=bins, edgecolor='black')\n",
    "\n",
    "# Customize the plot\n",
    "plt.title('Distribution of Likes Given by Users')\n",
    "plt.xlabel('Number of Likes')\n",
    "plt.ylabel('Number of Users')\n",
    "plt.grid(True)\n",
    "\n",
    "# Set x-axis ticks to represent each bin\n",
    "plt.xticks(range(25))\n",
    "\n",
    "# Show the plot\n",
    "plt.show()"
   ]
  },
  {
   "cell_type": "markdown",
   "id": "73a1d0e2",
   "metadata": {},
   "source": [
    "### Based on this histogram we can tell picky people apart from those who find a lot of people attractive."
   ]
  },
  {
   "cell_type": "code",
   "execution_count": 32,
   "id": "286db08e",
   "metadata": {},
   "outputs": [
    {
     "data": {
      "image/png": "[encoded data removed]",
      "text/plain": [
       "<Figure size 640x480 with 1 Axes>"
      ]
     },
     "metadata": {},
     "output_type": "display_data"
    }
   ],
   "source": [
    "# Count the number of likes for each user\n",
    "likes_per_user = train_data.groupby('user_to_id')['is_like'].sum()\n",
    "\n",
    "# Create bins for the histogram\n",
    "bins = range(25)  # Bins 0, 1, 2, ..., 25\n",
    "\n",
    "# Create a histogram\n",
    "plt.hist(likes_per_user, bins=bins, edgecolor='black')\n",
    "\n",
    "# Customize the plot\n",
    "plt.title('Distribution of Likes Received by Users')\n",
    "plt.xlabel('Number of Likes')\n",
    "plt.ylabel('Number of Users')\n",
    "plt.grid(True)\n",
    "\n",
    "# Set x-axis ticks to represent each bin\n",
    "plt.xticks(range(25))\n",
    "\n",
    "# Show the plot\n",
    "plt.show()"
   ]
  },
  {
   "cell_type": "markdown",
   "id": "4da42759",
   "metadata": {},
   "source": [
    "### Based on this histogram we can tell popular/attractive people apart from those less popular/with great peronalities."
   ]
  },
  {
   "cell_type": "markdown",
   "id": "8608856a",
   "metadata": {},
   "source": [
    "## NMF-based recommender system"
   ]
  },
  {
   "cell_type": "markdown",
   "id": "c9d216a3",
   "metadata": {},
   "source": [
    "### Firstly, we remove the outliers which are going to be the users who have given just likes or dislikes, because they don't really have a type, therefore they don't help us with recommendations."
   ]
  },
  {
   "cell_type": "code",
   "execution_count": 33,
   "id": "175a10f7",
   "metadata": {},
   "outputs": [
    {
     "name": "stdout",
     "output_type": "stream",
     "text": [
      "user_to_id  0     1     2     3     4     5     6     7     8     9     ...  \\\n",
      "1            NaN   NaN   NaN   NaN   NaN   NaN   NaN   NaN   NaN   NaN  ...   \n",
      "2            0.0   NaN   NaN   NaN   NaN   NaN   NaN   NaN   NaN   NaN  ...   \n",
      "3            NaN   NaN   NaN   NaN   NaN   NaN   NaN   NaN   NaN   NaN  ...   \n",
      "4            0.0   NaN   NaN   NaN   NaN   NaN   NaN   NaN   NaN   NaN  ...   \n",
      "5            NaN   NaN   NaN   NaN   NaN   NaN   NaN   NaN   NaN   NaN  ...   \n",
      "...          ...   ...   ...   ...   ...   ...   ...   ...   ...   ...  ...   \n",
      "3597         NaN   NaN   NaN   NaN   NaN   NaN   NaN   NaN   NaN   NaN  ...   \n",
      "3624         NaN   NaN   NaN   NaN   NaN   NaN   NaN   NaN   NaN   NaN  ...   \n",
      "3626         NaN   NaN   NaN   NaN   NaN   NaN   NaN   NaN   NaN   NaN  ...   \n",
      "3635         NaN   NaN   NaN   NaN   NaN   NaN   NaN   NaN   NaN   NaN  ...   \n",
      "3689         NaN   NaN   NaN   NaN   NaN   NaN   NaN   NaN   NaN   NaN  ...   \n",
      "\n",
      "user_to_id  3614  3615  3616  3618  3619  3620  3621  3622  3623  3624  \n",
      "1            NaN   NaN   NaN   NaN   NaN   NaN   NaN   NaN   NaN   NaN  \n",
      "2            NaN   NaN   NaN   NaN   NaN   NaN   NaN   NaN   NaN   NaN  \n",
      "3            NaN   NaN   NaN   NaN   NaN   NaN   NaN   NaN   NaN   NaN  \n",
      "4            NaN   NaN   NaN   NaN   NaN   NaN   NaN   NaN   NaN   NaN  \n",
      "5            NaN   NaN   NaN   NaN   NaN   NaN   NaN   NaN   NaN   NaN  \n",
      "...          ...   ...   ...   ...   ...   ...   ...   ...   ...   ...  \n",
      "3597         NaN   NaN   NaN   NaN   NaN   NaN   NaN   NaN   NaN   NaN  \n",
      "3624         NaN   NaN   NaN   NaN   NaN   NaN   NaN   NaN   NaN   NaN  \n",
      "3626         NaN   NaN   NaN   NaN   NaN   NaN   NaN   NaN   NaN   NaN  \n",
      "3635         NaN   NaN   NaN   NaN   NaN   NaN   NaN   NaN   NaN   NaN  \n",
      "3689         NaN   NaN   NaN   NaN   NaN   NaN   NaN   NaN   NaN   NaN  \n",
      "\n",
      "[2016 rows x 3040 columns]\n"
     ]
    }
   ],
   "source": [
    "# Creating the user by user matrix X\n",
    "X = pd.pivot_table(train_data, values='is_like', index='user_from_id', columns='user_to_id', fill_value=None)\n",
    "\n",
    "rows_to_keep = []\n",
    "\n",
    "for i in range(len(X)):\n",
    "    row_without_nans = X.iloc[i].dropna()\n",
    "    if not ((row_without_nans == 0).all() or (row_without_nans == 1).all()):\n",
    "        rows_to_keep.append(X.iloc[i])\n",
    "\n",
    "X_new = pd.DataFrame(rows_to_keep)"
   ]
  },
  {
   "cell_type": "markdown",
   "id": "58b2d4a4",
   "metadata": {},
   "source": [
    "### Since we noticed that the latter indices belong to newer users, we shuffle the data to ensure that the training and test sets are representative of the overall dataset and put 90% of the shuffeled data into the training set and the remaining 10% into the testing set."
   ]
  },
  {
   "cell_type": "code",
   "execution_count": 34,
   "id": "3a95dba0",
   "metadata": {},
   "outputs": [],
   "source": [
    "# Convert the DataFrame to a NumPy array\n",
    "X_np = X_new.to_numpy()\n",
    "\n",
    "# Shuffle the data\n",
    "np.random.seed(42)  # Set a random seed for reproducibility\n",
    "shuffled_indices = np.random.permutation(len(X_np))\n",
    "\n",
    "# Define the size of the training set (90% of the total data)\n",
    "train_size = int(len(X_np) * 0.9)\n",
    "\n",
    "# Split the indices into training and testing sets\n",
    "train_indices = shuffled_indices[:train_size]\n",
    "test_indices = shuffled_indices[train_size:]\n",
    "\n",
    "# Create the training and testing sets\n",
    "X_train = pd.DataFrame(X_np[train_indices], columns=X_new.columns)\n",
    "X_test = pd.DataFrame(X_np[test_indices], columns=X_new.columns)"
   ]
  },
  {
   "cell_type": "markdown",
   "id": "33df4e39",
   "metadata": {},
   "source": [
    "### Now we define the nmf routine, using a mask to handle NaNs."
   ]
  },
  {
   "cell_type": "code",
   "execution_count": 65,
   "id": "05e1ba7f",
   "metadata": {},
   "outputs": [
    {
     "name": "stdout",
     "output_type": "stream",
     "text": [
      "[[0.00000000e+00 0.00000000e+00 4.95325275e-04 ... 0.00000000e+00\n",
      "  2.20315479e-07 4.76181009e-11]\n",
      " [0.00000000e+00 0.00000000e+00 0.00000000e+00 ... 0.00000000e+00\n",
      "  0.00000000e+00 0.00000000e+00]\n",
      " [0.00000000e+00 0.00000000e+00 2.52916516e-05 ... 0.00000000e+00\n",
      "  1.05672950e-10 3.06291915e-12]\n",
      " ...\n",
      " [0.00000000e+00 0.00000000e+00 0.00000000e+00 ... 0.00000000e+00\n",
      "  0.00000000e+00 0.00000000e+00]\n",
      " [0.00000000e+00 0.00000000e+00 6.58515675e-03 ... 0.00000000e+00\n",
      "  2.75139382e-08 7.97488554e-10]\n",
      " [0.00000000e+00 0.00000000e+00 2.88961787e-07 ... 0.00000000e+00\n",
      "  1.20733296e-12 3.49944165e-14]]\n",
      "9845.211007972879\n"
     ]
    }
   ],
   "source": [
    "def nmf(X: pd.DataFrame, n_components: int, max_iter: int=100, tol: float=1e-5):\n",
    "    # Convert DataFrame to NumPy array (keep NaNs)\n",
    "    X_np = X.to_numpy()\n",
    "\n",
    "    # Create a mask for NaNs\n",
    "    mask = ~np.isnan(X_np)\n",
    "\n",
    "    # Initialize W and H with random non-negative values\n",
    "    W = np.random.rand(X_np.shape[0], n_components)\n",
    "    H = np.random.rand(n_components, X_np.shape[1])\n",
    "\n",
    "    # Iteratively update W and H\n",
    "    for i in range(max_iter):\n",
    "        WH = np.matmul(W, H)\n",
    "\n",
    "        # Update H\n",
    "        numeratorH = np.matmul(W.T, np.nan_to_num(X_np * mask))\n",
    "        denominatorH = np.matmul(W.T, WH) + 1e-9\n",
    "        H *= numeratorH / denominatorH\n",
    "\n",
    "        # Update W\n",
    "        numeratorW = np.matmul(np.nan_to_num(X_np * mask), H.T)\n",
    "        denominatorW = np.matmul(W, np.matmul(H, H.T)) + 1e-9\n",
    "        W *= numeratorW / denominatorW\n",
    "\n",
    "        # Calculate the error only on the non-NaN entries\n",
    "        Enew = np.linalg.norm((np.nan_to_num(X_np) - WH) * mask) ** 2\n",
    "        if Enew < tol:\n",
    "            break\n",
    "\n",
    "    return W, H"
   ]
  },
  {
   "cell_type": "markdown",
   "id": "a981f6d9",
   "metadata": {},
   "source": [
    "### Determining the Prediction Threshold from Reconstructed Ratings\n",
    "\n",
    "#### To transform the ratings in the reconstructed matrix from our NMF model into binary predictions (1 for 'like' and 0 for 'dislike'), we need to establish a suitable threshold. This threshold serves as a decision boundary: ratings above it are rounded up to 1, and ratings below it are rounded down to 0. \n",
    "\n",
    "#### The `find_threshold_based_on_quantile` function is designed to compute this threshold based on the distribution of reconstructed ratings. By choosing a specific quantile, we can tailor our predictions to the density of the ratings. For instance, setting the threshold at the 90th percentile means we predict a 'like' only for the top 10% of ratings, which can be useful in scenarios where likes are rare or when we want to be conservative in our prediction of likes."
   ]
  },
  {
   "cell_type": "code",
   "execution_count": 66,
   "id": "7d5be38e",
   "metadata": {},
   "outputs": [
    {
     "name": "stdout",
     "output_type": "stream",
     "text": [
      "Threshold based on the 90.0th percentile: 0.00120292620270696\n"
     ]
    }
   ],
   "source": [
    "def find_threshold_based_on_quantile(reconstructed_matrix, quantile):\n",
    "    # Flatten the matrix to a 1D array\n",
    "    flat_matrix = reconstructed_matrix.flatten()\n",
    "    \n",
    "    # Compute the quantile\n",
    "    threshold = np.quantile(flat_matrix, quantile)\n",
    "    \n",
    "    return threshold"
   ]
  },
  {
   "cell_type": "markdown",
   "id": "8763a00b",
   "metadata": {},
   "source": [
    "### Now we need a function to check the accuracy of our predictions, so we define one below."
   ]
  },
  {
   "cell_type": "code",
   "execution_count": 73,
   "id": "6fd37d3e",
   "metadata": {},
   "outputs": [
    {
     "name": "stdout",
     "output_type": "stream",
     "text": [
      "0.6854264373805802\n"
     ]
    }
   ],
   "source": [
    "def calculate_accuracy(X_test, predictions_df):\n",
    "    correct_count = 0\n",
    "    ratings_count = 0\n",
    "\n",
    "    for index, row in X_test.iterrows():\n",
    "        user_id = index  # Assuming user_id corresponds to the index in X_test\n",
    "        for item_id in X_test.columns:\n",
    "            actual_rating = row[item_id]\n",
    "            if not np.isnan(actual_rating):\n",
    "                # Access the predicted rating\n",
    "                predicted_rating = predictions_df.at[user_id, item_id]\n",
    "\n",
    "                # Compare predicted_rating with actual_rating\n",
    "                if predicted_rating == actual_rating:\n",
    "                    correct_count += 1\n",
    "                ratings_count += 1\n",
    "\n",
    "    # Calculate and return accuracy\n",
    "    if ratings_count > 0:\n",
    "        accuracy = correct_count / ratings_count\n",
    "        return accuracy\n",
    "    else:\n",
    "        return None"
   ]
  },
  {
   "cell_type": "markdown",
   "id": "e2ff2342",
   "metadata": {},
   "source": [
    "### Now we try to optimize the hyperparameters of our nmf routine and the threshold."
   ]
  },
  {
   "cell_type": "code",
   "execution_count": 74,
   "id": "cea833a4",
   "metadata": {},
   "outputs": [
    {
     "name": "stdout",
     "output_type": "stream",
     "text": [
      "Best Accuracy: 0.7347576862949453\n",
      "Best Hyperparameters: {'n_components': 10, 'max_iter': 50, 'quantile': 0.95, 'threshold': 0.006838987744773777}\n"
     ]
    }
   ],
   "source": [
    "n_components_range = [10, 15, 20]\n",
    "max_iter_range = [50, 100, 150]\n",
    "\n",
    "# Store both quantile and threshold\n",
    "threshold_info = []\n",
    "\n",
    "# Define the quantiles to explore\n",
    "quantiles_to_try = [0.85, 0.90, 0.95]\n",
    "\n",
    "best_accuracy = 0\n",
    "best_params = {'n_components': None, 'max_iter': None, 'quantile': None, 'threshold': None}\n",
    "\n",
    "for n_components in n_components_range:\n",
    "    for max_iter in max_iter_range:\n",
    "        # Perform NMF with the current set of hyperparameters\n",
    "        W, H = nmf(X_train, n_components=n_components, max_iter=max_iter)\n",
    "        reconstructed_matrix = np.matmul(W, H)\n",
    "\n",
    "        # Calculate thresholds for current quantiles\n",
    "        for quantile in quantiles_to_try:\n",
    "            threshold = find_threshold_based_on_quantile(reconstructed_matrix, quantile)\n",
    "            threshold_info.append((quantile, threshold))\n",
    "\n",
    "            # Binarize the matrix based on the current threshold\n",
    "            binarized_matrix = np.where(reconstructed_matrix >= threshold, 1, 0)\n",
    "\n",
    "            # Calculate accuracy\n",
    "            accuracy = calculate_accuracy(X_test, pd.DataFrame(binarized_matrix, index=X_train.index, columns=X_train.columns))\n",
    "\n",
    "            # Update best parameters if current accuracy is higher\n",
    "            if accuracy > best_accuracy:\n",
    "                best_accuracy = accuracy\n",
    "                best_params = {'n_components': n_components, 'max_iter': max_iter, 'quantile': quantile, 'threshold': threshold}\n",
    "\n",
    "print(f\"Best Accuracy: {best_accuracy}\")\n",
    "print(f\"Best Hyperparameters: {best_params}\")"
   ]
  },
  {
   "cell_type": "markdown",
   "id": "5d9c06e8",
   "metadata": {},
   "source": [
    "### Out of the parameters that we chose to check the best combination is to have 10 components, 50 iterations and to base the treshold on the 0.95 quantile as it gives around 73% accuracy."
   ]
  }
 ],
 "metadata": {
  "kernelspec": {
   "display_name": "Python 3 (ipykernel)",
   "language": "python",
   "name": "python3"
  },
  "language_info": {
   "codemirror_mode": {
    "name": "ipython",
    "version": 3
   },
   "file_extension": ".py",
   "mimetype": "text/x-python",
   "name": "python",
   "nbconvert_exporter": "python",
   "pygments_lexer": "ipython3",
   "version": "3.11.5"
  }
 },
 "nbformat": 4,
 "nbformat_minor": 5
}
